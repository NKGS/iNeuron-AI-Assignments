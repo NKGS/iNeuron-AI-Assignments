{
 "cells": [
  {
   "cell_type": "code",
   "execution_count": 1,
   "metadata": {},
   "outputs": [],
   "source": [
    "import numpy as np\n",
    "from scipy import stats"
   ]
  },
  {
   "cell_type": "code",
   "execution_count": null,
   "metadata": {},
   "outputs": [],
   "source": [
    "####\n",
    "'''\n",
    "Problem Statement 1:\n",
    "The marks awarded for an assignment set for a Year 8 class of 20 students were as\n",
    "follows:\n",
    "6 7 5 7 7 8 7 6 9 7 4 10 6 8 8 9 5 6 4 8\n",
    "'''\n",
    "####"
   ]
  },
  {
   "cell_type": "code",
   "execution_count": 2,
   "metadata": {},
   "outputs": [
    {
     "data": {
      "text/plain": [
       "array([ 6,  7,  5,  7,  7,  8,  7,  6,  9,  7,  4, 10,  6,  8,  8,  9,  5,\n",
       "        6,  4,  8])"
      ]
     },
     "execution_count": 2,
     "metadata": {},
     "output_type": "execute_result"
    }
   ],
   "source": [
    "a = np.asarray(\"6 7 5 7 7 8 7 6 9 7 4 10 6 8 8 9 5 6 4 8\".split(\" \"), dtype=int)\n",
    "a"
   ]
  },
  {
   "cell_type": "code",
   "execution_count": 3,
   "metadata": {},
   "outputs": [
    {
     "name": "stdout",
     "output_type": "stream",
     "text": [
      "mean is  6.85\n",
      "median is  7.0\n",
      "mode is  ModeResult(mode=array([7]), count=array([5]))\n",
      "std. deviation is  1.5898113095584647\n",
      "variance is  2.5275000000000003\n"
     ]
    }
   ],
   "source": [
    "print('mean is ',np.mean(a))\n",
    "print('median is ',np.median(a))\n",
    "print('mode is ',stats.mode(a))\n",
    "print('std. deviation is ',np.std(a))\n",
    "print('variance is ',np.var(a))"
   ]
  },
  {
   "cell_type": "code",
   "execution_count": null,
   "metadata": {},
   "outputs": [],
   "source": [
    "###\n",
    "'''\n",
    "Problem Statement 2:\n",
    "The number of calls from motorists per day for roadside service was recorded for a\n",
    "particular month:\n",
    "28, 122, 217, 130, 120, 86, 80, 90, 140, 120, 70, 40, 145, 113, 90, 68, 174, 194, 170,\n",
    "100, 75, 104, 97, 75,\n",
    "123, 100, 75, 104, 97, 75, 123, 100, 89, 120, 109\n",
    "'''\n",
    "###"
   ]
  },
  {
   "cell_type": "code",
   "execution_count": 4,
   "metadata": {},
   "outputs": [
    {
     "name": "stdout",
     "output_type": "stream",
     "text": [
      "mean is  107.51428571428572\n",
      "median is  100.0\n",
      "mode is  ModeResult(mode=array([75]), count=array([4]))\n",
      "std. deviation is  38.77287080168403\n",
      "variance is  1503.3355102040816\n"
     ]
    }
   ],
   "source": [
    "b = [28, 122, 217, 130, 120, 86, 80, 90, 140, 120, 70, 40, 145, 113, 90, 68, 174, 194, 170,  100, 75, 104, 97, 75, \n",
    "123, 100, 75, 104, 97, 75, 123, 100, 89, 120, 109]\n",
    "print('mean is ',np.mean(b))\n",
    "print('median is ',np.median(b))\n",
    "print('mode is ',stats.mode(b))\n",
    "print('std. deviation is ',np.std(b))\n",
    "print('variance is ',np.var(b))"
   ]
  },
  {
   "cell_type": "code",
   "execution_count": null,
   "metadata": {},
   "outputs": [],
   "source": [
    "###\n",
    "'''\n",
    "Problem Statement 3:\n",
    "The number of times I go to the gym in weekdays, are given below along with its\n",
    "associated probability:\n",
    "x = 0, 1, 2, 3, 4, 5\n",
    "f(x) = 0.09, 0.15, 0.40, 0.25, 0.10, 0.01\n",
    "Calculate the mean no. of workouts in a week. Also evaluate the variance involved in\n",
    "it.\n",
    "'''\n",
    "###"
   ]
  },
  {
   "cell_type": "code",
   "execution_count": 6,
   "metadata": {},
   "outputs": [
    {
     "name": "stdout",
     "output_type": "stream",
     "text": [
      "Mean -  0.35833333333333334\n",
      "Var -  0.10284722222222224\n"
     ]
    }
   ],
   "source": [
    "x = np.asarray([0, 1, 2, 3, 4, 5], dtype=float)\n",
    "fx = [0.09, 0.15, 0.40, 0.25, 0.10, 0.01]\n",
    "mul = x*fx\n",
    "print(\"Mean - \",np.mean(mul))\n",
    "print(\"Var - \", np.var(mul))"
   ]
  },
  {
   "cell_type": "code",
   "execution_count": null,
   "metadata": {},
   "outputs": [],
   "source": [
    "###\n",
    "'''\n",
    "Problem Statement 4:\n",
    "Let the continuous random variable D denote the diameter of the hole drilled in an\n",
    "aluminum sheet. The target diameter to be achieved is 12.5mm. Random\n",
    "disturbances in the process often result in inaccuracy.\n",
    "Historical data shows that the distribution of D can be modelled by the PDF (d) =\n",
    "20e−20(d−12.5), d ≥ 12.5. If a part with diameter > 12.6 mm needs to be scrapped,\n",
    "what is the proportion of those parts? What is the CDF when the diameter is of 11\n",
    "mm? What is your conclusion regarding the proportion of scraps?\n",
    "'''\n",
    "###"
   ]
  },
  {
   "cell_type": "code",
   "execution_count": null,
   "metadata": {},
   "outputs": [],
   "source": [
    "'''If a part with diameter > 12.6 mm needs to be scrapped, what is the proportion of those parts'''"
   ]
  },
  {
   "cell_type": "code",
   "execution_count": 11,
   "metadata": {},
   "outputs": [
    {
     "name": "stdout",
     "output_type": "stream",
     "text": [
      "0.135 part will be scrapped\n"
     ]
    }
   ],
   "source": [
    "print('0.135 part will be scrapped')"
   ]
  },
  {
   "cell_type": "code",
   "execution_count": null,
   "metadata": {},
   "outputs": [],
   "source": [
    "'''\n",
    "What is the CDF when the diameter is of 11 mm?\n",
    "'''"
   ]
  },
  {
   "cell_type": "code",
   "execution_count": 16,
   "metadata": {},
   "outputs": [
    {
     "name": "stdout",
     "output_type": "stream",
     "text": [
      "CDF is 0.95 for diameter 11mm\n"
     ]
    }
   ],
   "source": [
    "print('CDF is 0 for diameter value < than 12.5')"
   ]
  },
  {
   "cell_type": "code",
   "execution_count": null,
   "metadata": {},
   "outputs": [],
   "source": [
    "'''What is your conclusion regarding the proportion of scraps?'''"
   ]
  },
  {
   "cell_type": "code",
   "execution_count": 17,
   "metadata": {},
   "outputs": [
    {
     "name": "stdout",
     "output_type": "stream",
     "text": [
      "Proportion of Scraps will be 0 dependent on diameter. If diameter< 12.5 then it is 0 else it can be between 0 and 1\n"
     ]
    }
   ],
   "source": [
    "print('Proportion of Scraps will be 0 dependent on diameter. If diameter< 12.5 then it is 0 else it can be between 0 and 1')"
   ]
  },
  {
   "cell_type": "code",
   "execution_count": null,
   "metadata": {},
   "outputs": [],
   "source": [
    "###\n",
    "'''\n",
    "Problem Statement 5:\n",
    "\n",
    "A company manufactures LED bulbs with a faulty rate of 30%. If I randomly select 6\n",
    "chosen LEDs, what is the probability of having 2 faulty LEDs in my sample?\n",
    "Calculate the average value of this process. Also evaluate the standard deviation\n",
    "associated with it.\n",
    "'''\n",
    "###"
   ]
  },
  {
   "cell_type": "code",
   "execution_count": 8,
   "metadata": {},
   "outputs": [
    {
     "data": {
      "text/plain": [
       "'Probability(faulty leds = 2) = 6C2(0.3)^2(0.7)^4 = 0.324'"
      ]
     },
     "execution_count": 8,
     "metadata": {},
     "output_type": "execute_result"
    }
   ],
   "source": [
    "'''Probability(faulty leds = 2) = 6C2(0.3)^2(0.7)^4 = 0.324'''"
   ]
  },
  {
   "cell_type": "code",
   "execution_count": 9,
   "metadata": {},
   "outputs": [
    {
     "name": "stdout",
     "output_type": "stream",
     "text": [
      "Avg value of this process =  10.3\n"
     ]
    }
   ],
   "source": [
    "'''\n",
    "Calculate the average value of this process. \n",
    "'''\n",
    "prob_led_working = 0.7\n",
    "prob_led_not_working = 0.3\n",
    "avg = (1*0.7)+(2*0.7)+(3*0.7)+(4*0.7)+(5*0.3)+(6*0.3)\n",
    "print('Avg value of this process = ',avg)"
   ]
  },
  {
   "cell_type": "code",
   "execution_count": null,
   "metadata": {},
   "outputs": [],
   "source": []
  },
  {
   "cell_type": "code",
   "execution_count": null,
   "metadata": {},
   "outputs": [],
   "source": [
    "'''\n",
    "Also evaluate the standard deviation associated with it.\n",
    "'''"
   ]
  },
  {
   "cell_type": "code",
   "execution_count": 10,
   "metadata": {},
   "outputs": [
    {
     "name": "stdout",
     "output_type": "stream",
     "text": [
      "standard deviation is  -24.72\n"
     ]
    }
   ],
   "source": [
    "std_deviation = (1-avg)*(0.7)+(2-avg)*(0.7)+(3-avg)*(0.7)+(4-avg)*(0.7)+(5-avg)*(0.3)+(6-avg)*(0.3)\n",
    "\n",
    "print('standard deviation is ',std_deviation)"
   ]
  },
  {
   "cell_type": "code",
   "execution_count": null,
   "metadata": {},
   "outputs": [],
   "source": [
    "'''\n",
    "Problem Statement 6:\n",
    "\n",
    "Gaurav and Barakha are both preparing for entrance exams. Gaurav attempts to\n",
    "solve 8 questions per day with a correction rate of 75%, while Barakha averages\n",
    "around 12 questions per day with a correction rate of 45%. What is the probability\n",
    "that each of them will solve 5 questions correctly? What happens in cases of 4 and 6\n",
    "correct solutions? What do you infer from it? What are the two main governing\n",
    "factors affecting their ability to solve questions correctly? Give a pictorial\n",
    "representation of the same to validate your answer.\n",
    "'''"
   ]
  },
  {
   "cell_type": "code",
   "execution_count": 12,
   "metadata": {},
   "outputs": [
    {
     "name": "stdout",
     "output_type": "stream",
     "text": [
      "Gaurav correct answers - with 75% correction rate, 8 questions - 0.75*8 -  6.0\n",
      "Barakha correct answers- with 45% correction rate, 12 questions - 0.45*12 -  5.4\n"
     ]
    }
   ],
   "source": [
    "print('Gaurav correct answers - with 75% correction rate, 8 questions - 0.75*8 - ',0.75*8)\n",
    "print('Barakha correct answers- with 45% correction rate, 12 questions - 0.45*12 - ',0.45*12)"
   ]
  },
  {
   "cell_type": "code",
   "execution_count": 13,
   "metadata": {},
   "outputs": [
    {
     "name": "stdout",
     "output_type": "stream",
     "text": [
      "Probability that each will solve 5 question correctly is 100% since both can solve atleast 6 question correct given the value\n"
     ]
    }
   ],
   "source": [
    "print('Probability that each will solve 5 question correctly is 100% since both can solve atleast 5 question correct given the value')"
   ]
  },
  {
   "cell_type": "code",
   "execution_count": 14,
   "metadata": {},
   "outputs": [
    {
     "name": "stdout",
     "output_type": "stream",
     "text": [
      "Gaurav correct answers - with 75% correction rate, 4 questions - 0.75*4 -  3.0\n",
      "Barakha correct answers- with 45% correction rate, 6 questions - 0.45*6 -  2.7\n"
     ]
    }
   ],
   "source": [
    "print('Gaurav correct answers - with 75% correction rate, 4 questions - 0.75*4 - ',0.75*4)\n",
    "print('Barakha correct answers- with 45% correction rate, 6 questions - 0.45*6 - ',0.45*6)"
   ]
  },
  {
   "cell_type": "code",
   "execution_count": 16,
   "metadata": {},
   "outputs": [
    {
     "data": {
      "text/plain": [
       "'We can conclude that when we reduce the number of questios by half the the value of problems that both can solve also reduces by half.\\nSo main governing factor in this problem is correction rate and number of questions solved.'"
      ]
     },
     "execution_count": 16,
     "metadata": {},
     "output_type": "execute_result"
    }
   ],
   "source": [
    "'''We can conclude that when we reduce the number of questios by half the the value of problems that both can solve also reduces by half.\n",
    "So main governing factor in this problem is correction rate and number of questions solved.'''"
   ]
  },
  {
   "cell_type": "code",
   "execution_count": 17,
   "metadata": {},
   "outputs": [
    {
     "data": {
      "text/plain": [
       "'Pictorial represntation'"
      ]
     },
     "execution_count": 17,
     "metadata": {},
     "output_type": "execute_result"
    }
   ],
   "source": [
    "'''Pictorial represntation'''"
   ]
  },
  {
   "cell_type": "code",
   "execution_count": null,
   "metadata": {},
   "outputs": [],
   "source": []
  },
  {
   "cell_type": "code",
   "execution_count": null,
   "metadata": {},
   "outputs": [],
   "source": []
  },
  {
   "cell_type": "code",
   "execution_count": null,
   "metadata": {},
   "outputs": [],
   "source": [
    "'''\n",
    "Problem Statement 7:\n",
    "\n",
    "Customers arrive at a rate of 72 per hour to my shop. What is the probability of k\n",
    "customers arriving in 4 minutes? a) 5 customers, b) not more than 3 customers, c)\n",
    "more than 3 customers. Give a pictorial representation of the same to validate your\n",
    "answer.\n",
    "'''"
   ]
  },
  {
   "cell_type": "code",
   "execution_count": 18,
   "metadata": {},
   "outputs": [
    {
     "name": "stdout",
     "output_type": "stream",
     "text": [
      "Mean per four minutes -  4.8\n"
     ]
    }
   ],
   "source": [
    "perMinuteCustomer = 72/60;\n",
    "everyFourMinAvg = perMinuteCustomer * 4;\n",
    "print('Mean per four minutes - ',everyFourMinAvg)"
   ]
  },
  {
   "cell_type": "code",
   "execution_count": 19,
   "metadata": {},
   "outputs": [],
   "source": [
    "from scipy.stats import poisson"
   ]
  },
  {
   "cell_type": "code",
   "execution_count": 2,
   "metadata": {},
   "outputs": [
    {
     "data": {
      "text/plain": [
       "0.00822974704902003"
      ]
     },
     "execution_count": 2,
     "metadata": {},
     "output_type": "execute_result"
    }
   ],
   "source": [
    "import math\n",
    "math.exp(-4.8)"
   ]
  },
  {
   "cell_type": "code",
   "execution_count": 36,
   "metadata": {},
   "outputs": [
    {
     "name": "stdout",
     "output_type": "stream",
     "text": [
      "Probability of a) 5 customers in 4 minutes -  0.17474768364388296\n",
      "Probability of b) only 3 customers in 4 minutes -  0.15169069760753714\n",
      "Probability of c) more than 3 customers in 4 minutes -  0.8252523163561171\n"
     ]
    }
   ],
   "source": [
    "print('Probability of a) 5 customers in 4 minutes - ',poisson.pmf(5, everyFourMinAvg))\n",
    "print('Probability of b) only 3 customers in 4 minutes - ',poisson.pmf(3, everyFourMinAvg))\n",
    "print('Probability of c) more than 3 customers in 4 minutes - ',1-poisson.pmf(5, everyFourMinAvg))"
   ]
  },
  {
   "cell_type": "code",
   "execution_count": null,
   "metadata": {},
   "outputs": [],
   "source": [
    "'''Give a pictorial representation of the same to validate your answer'''"
   ]
  },
  {
   "cell_type": "code",
   "execution_count": null,
   "metadata": {},
   "outputs": [],
   "source": []
  },
  {
   "cell_type": "code",
   "execution_count": null,
   "metadata": {},
   "outputs": [],
   "source": []
  },
  {
   "cell_type": "code",
   "execution_count": null,
   "metadata": {},
   "outputs": [],
   "source": [
    "###\n",
    "'''\n",
    "Problem Statement 8:\n",
    "\n",
    "I work as a data analyst in Aeon Learning Pvt. Ltd. After analyzing data, I make\n",
    "reports, where I have the efficiency of entering 77 words per minute with 6 errors per\n",
    "hour. What is the probability that I will commit 2 errors in a 455-word financial report?\n",
    "What happens when the no. of words increases/decreases (in case of 1000 words,\n",
    "255 words)?\n",
    "How is the λ affected?\n",
    "How does it influence the PMF?\n",
    "Give a pictorial representation of the same to validate your answer.\n",
    "'''\n",
    "###"
   ]
  },
  {
   "cell_type": "code",
   "execution_count": 1,
   "metadata": {},
   "outputs": [
    {
     "name": "stdout",
     "output_type": "stream",
     "text": [
      "Error Speed Per Min -  0.1\n",
      "Time taken to analyze 455 words -  5.909090909090909\n",
      "Avg error per 455 words -  0.5909090909090909\n"
     ]
    }
   ],
   "source": [
    "# Poisson Distribution\n",
    "Speed = '77words/min'\n",
    "Error = '6perhour'\n",
    "\n",
    "Err_Speed_Min = 6/60\n",
    "Time_For_455Words = 455/77\n",
    "Avg_error_455Words = Err_Speed_Min*Time_For_455Words\n",
    "\n",
    "print('Error Speed Per Min - ',Err_Speed_Min);\n",
    "print('Time taken to analyze 455 words - ',Time_For_455Words);\n",
    "print('Avg error per 455 words - ',Avg_error_455Words);"
   ]
  },
  {
   "cell_type": "code",
   "execution_count": 10,
   "metadata": {},
   "outputs": [
    {
     "name": "stdout",
     "output_type": "stream",
     "text": [
      "probability that I will commit 2 errors in a 455-word -  0.09669027375144446\n"
     ]
    }
   ],
   "source": [
    "expVal = math.exp(-Avg_error_455Words)\n",
    "\n",
    "Poission_dist_455 = (expVal*Avg_error_455Words*Avg_error_455Words)/2\n",
    "\n",
    "print('probability that I will commit 2 errors in a 455-word - ',Poission_dist_455)"
   ]
  },
  {
   "cell_type": "code",
   "execution_count": 11,
   "metadata": {},
   "outputs": [
    {
     "name": "stdout",
     "output_type": "stream",
     "text": [
      "probability that I will commit 2 errors in a 300-word -  0.05140737416565736\n"
     ]
    }
   ],
   "source": [
    "####if  no. of words decrease to 300\n",
    "Time_For_300Words = 300/77\n",
    "Avg_error_300Words = Err_Speed_Min*Time_For_300Words\n",
    "\n",
    "expVal = math.exp(-Avg_error_300Words)\n",
    "\n",
    "Poission_dist_300 = (expVal*Avg_error_300Words*Avg_error_300Words)/2\n",
    "\n",
    "print('probability that I will commit 2 errors in a 300-word - ',Poission_dist_300)"
   ]
  },
  {
   "cell_type": "code",
   "execution_count": 12,
   "metadata": {},
   "outputs": [
    {
     "name": "stdout",
     "output_type": "stream",
     "text": [
      "probability that I will commit 2 errors in a 600-word -  0.1392771175575663\n"
     ]
    }
   ],
   "source": [
    "####if  no. of words increase to 600\n",
    "Time_For_600Words = 600/77\n",
    "Avg_error_600Words = Err_Speed_Min*Time_For_600Words\n",
    "\n",
    "expVal = math.exp(-Avg_error_600Words)\n",
    "\n",
    "Poission_dist_600 = (expVal*Avg_error_600Words*Avg_error_600Words)/2\n",
    "\n",
    "print('probability that I will commit 2 errors in a 600-word - ',Poission_dist_600)"
   ]
  },
  {
   "cell_type": "code",
   "execution_count": 9,
   "metadata": {},
   "outputs": [
    {
     "name": "stdout",
     "output_type": "stream",
     "text": [
      "We conclude that when number of words increase probability of error increases and when number of words decrease probability of error reduces\n"
     ]
    }
   ],
   "source": [
    "print('We conclude that when number of words increase probability of error increases and when number of words decrease probability of error reduces')"
   ]
  },
  {
   "cell_type": "code",
   "execution_count": null,
   "metadata": {},
   "outputs": [],
   "source": [
    "'''Give a pictorial representation of the same to validate your answer.'''"
   ]
  },
  {
   "cell_type": "code",
   "execution_count": null,
   "metadata": {},
   "outputs": [],
   "source": []
  },
  {
   "cell_type": "code",
   "execution_count": null,
   "metadata": {},
   "outputs": [],
   "source": [
    "###\n",
    "'''\n",
    "Problem Statement 9:\n",
    "\n",
    "Let the continuous random variable D denote the diameter of the hole drilled in an\n",
    "aluminum sheet. The target diameter to be achieved is 12.5mm. Random\n",
    "disturbances in the process often result in inaccuracy.\n",
    "Historical data shows that the distribution of D can be modelled by the PDF, f(d) =\n",
    "20e−20(d−12.5), d ≥ 12.5. If a part with diameter > 12.6 mm needs to be scrapped,\n",
    "what is the proportion of those parts? What is the CDF when the diameter is of 11\n",
    "mm?\n",
    "What is the conclusion of this experiment?\n",
    "'''\n",
    "###"
   ]
  },
  {
   "cell_type": "code",
   "execution_count": null,
   "metadata": {},
   "outputs": [],
   "source": [
    "#### Same as problem 4 ####"
   ]
  },
  {
   "cell_type": "code",
   "execution_count": null,
   "metadata": {},
   "outputs": [],
   "source": [
    "###\n",
    "'''\n",
    "Problem Statement 10:\n",
    "\n",
    "Please compute the following:\n",
    "a) P(Z > 1.26), . P(Z < −0.86), P(Z > −1.37), P(−1.25 < Z < 0.37), . P(Z ≤ −4.6)\n",
    "b) Find the value z such that P(Z > z) = 0.05\n",
    "c) Find the value of z such that P(−z < Z < z) = 0.99\n",
    "'''\n",
    "###"
   ]
  },
  {
   "cell_type": "code",
   "execution_count": 32,
   "metadata": {},
   "outputs": [
    {
     "name": "stdout",
     "output_type": "stream",
     "text": [
      "P(Z > 1.26) -  0.10382999999999998\n",
      "P(Z < −0.86) - 0.19489\n",
      "P(Z > −1.37) -  0.91466\n",
      "P(−1.25 < Z < 0.37) -  0.53866\n",
      "P(Z ≤ −4.6) - 0.0\n"
     ]
    }
   ],
   "source": [
    "### a) P(Z > 1.26), . P(Z < −0.86), P(Z > −1.37), P(−1.25 < Z < 0.37), . P(Z ≤ −4.6)\n",
    "print('P(Z > 1.26) - ',1-0.89617);\n",
    "print('P(Z < −0.86) - 0.19489',);\n",
    "print('P(Z > −1.37) - ',1-0.08534);\n",
    "print('P(−1.25 < Z < 0.37) - ',(0.64431-0.10565));\n",
    "print('P(Z ≤ −4.6) - 0.0',);\n"
   ]
  },
  {
   "cell_type": "code",
   "execution_count": 16,
   "metadata": {},
   "outputs": [
    {
     "name": "stdout",
     "output_type": "stream",
     "text": [
      "b) Find the value z such that P(Z > z) = 0.05 is –1.64 \n"
     ]
    }
   ],
   "source": [
    "### b) Find the value z such that P(Z > z) = 0.05\n",
    "print('b) value z such that P(Z > z) = 0.05 is –1.64 ')"
   ]
  },
  {
   "cell_type": "code",
   "execution_count": 33,
   "metadata": {},
   "outputs": [
    {
     "name": "stdout",
     "output_type": "stream",
     "text": [
      "c) value of z is 2.58\n"
     ]
    }
   ],
   "source": [
    "### c) Find the value of z such that P(−z < Z < z) = 0.99\n",
    "print('c) value of z is 2.58')"
   ]
  },
  {
   "cell_type": "code",
   "execution_count": null,
   "metadata": {},
   "outputs": [],
   "source": [
    "###\n",
    "'''\n",
    "Problem Statement 11:\n",
    "\n",
    "The current flow in a copper wire follow a normal distribution with a mean of 10 mA\n",
    "and a variance of 4 (mA)2.\n",
    "What is the probability that a current measurement will exceed 13 mA? What is the\n",
    "probability that a current measurement is between 9 and 11mA? Determine the\n",
    "current measurement which has a probability of 0.98.\n",
    "'''\n",
    "###"
   ]
  },
  {
   "cell_type": "code",
   "execution_count": 18,
   "metadata": {},
   "outputs": [
    {
     "name": "stdout",
     "output_type": "stream",
     "text": [
      "Z test value(x<13) =  1.5\n"
     ]
    }
   ],
   "source": [
    "mean = 10\n",
    "variance = 4\n",
    "standard_dev = 2\n",
    "print('Z value(x<13) = ',(13-mean)/standard_dev)"
   ]
  },
  {
   "cell_type": "code",
   "execution_count": 19,
   "metadata": {},
   "outputs": [
    {
     "name": "stdout",
     "output_type": "stream",
     "text": [
      "P(x<13) - for Z 1.5 is 0.06681\n"
     ]
    }
   ],
   "source": [
    "print('P(x<13) - for Z 1.5 is 0.06681')"
   ]
  },
  {
   "cell_type": "code",
   "execution_count": 21,
   "metadata": {},
   "outputs": [
    {
     "name": "stdout",
     "output_type": "stream",
     "text": [
      "prob_for_9 -  -0.5\n",
      "prob of 11 -  0.5\n"
     ]
    }
   ],
   "source": [
    "### probability that a current measurement is between 9 and 11mA?\n",
    "prob_for_9 = (9-mean)/standard_dev\n",
    "prob_for_11 = (11-mean)/standard_dev\n",
    "\n",
    "print('prob_for_9 - ',prob_for_9)\n",
    "print('prob of 11 - ',prob_for_11)"
   ]
  },
  {
   "cell_type": "code",
   "execution_count": 22,
   "metadata": {},
   "outputs": [
    {
     "name": "stdout",
     "output_type": "stream",
     "text": [
      "Probablity of current measurement between 9 and 11 mA -  0.38292\n"
     ]
    }
   ],
   "source": [
    "print('Probablity of current measurement between 9 and 11 mA - ',0.69146 - 0.30854)"
   ]
  },
  {
   "cell_type": "code",
   "execution_count": 23,
   "metadata": {},
   "outputs": [
    {
     "name": "stdout",
     "output_type": "stream",
     "text": [
      "the current measurement which has a probability of 0.98 is 2.06\n"
     ]
    }
   ],
   "source": [
    "### Determine the current measurement which has a probability of 0.98.\n",
    "print('the current measurement which has a probability of 0.98 is 2.06')"
   ]
  },
  {
   "cell_type": "code",
   "execution_count": null,
   "metadata": {},
   "outputs": [],
   "source": [
    "###\n",
    "'''\n",
    "Problem Statement 12:\n",
    "\n",
    "The shaft in a piston has its diameter normally distributed with a mean of 0.2508 inch\n",
    "and a standard deviation of 0.0005 inch. The specifications of the shaft are 0.2500 ∓\n",
    "0.0015 inch. What proportion of shafts are in sync with the specifications? If the\n",
    "process is centered so that the mean is equal to the target value of 0.2500, what\n",
    "proportion of shafts conform to the new specifications? What is your conclusion from\n",
    "this experiment?\n",
    "'''\n",
    "###"
   ]
  },
  {
   "cell_type": "code",
   "execution_count": 37,
   "metadata": {},
   "outputs": [
    {
     "name": "stdout",
     "output_type": "stream",
     "text": [
      "P(2500-0.0015 < X < 2500+0.0015) = P(0.2485 < X < 0.2515)\n",
      "P(0.2485) -  -4.6000000000000485\n",
      "P(0.2515) -  1.3999999999999568\n"
     ]
    }
   ],
   "source": [
    "meanV = 0.2508\n",
    "stdV = 0.0005\n",
    "\n",
    "print('P(2500-0.0015 < X < 2500+0.0015) = P(0.2485 < X < 0.2515)')\n",
    "\n",
    "pL = (0.2485-meanV)/stdV\n",
    "pH = (0.2515-meanV)/stdV\n",
    "print('P(0.2485) - ',pL)\n",
    "print('P(0.2515) - ',pH)"
   ]
  },
  {
   "cell_type": "code",
   "execution_count": null,
   "metadata": {},
   "outputs": [],
   "source": [
    "print('CDF(\"1.39\") - 0.91774')\n",
    "print('CDF(\"-4.6\") - 0.00001')\n",
    "print('P(0.2485 < X < 0.2515) approximately 0.92. About 92% shafts are in sync with the specification')"
   ]
  },
  {
   "cell_type": "code",
   "execution_count": 39,
   "metadata": {},
   "outputs": [
    {
     "name": "stdout",
     "output_type": "stream",
     "text": [
      "P( 0.2485 – 0.2500< Z < 0.2515 – 0.2500)\n",
      "P(0.2485) -  -3.0000000000000027\n",
      "P(0.2515) -  3.0000000000000027\n"
     ]
    }
   ],
   "source": [
    "### If the process is centered so that the mean is equal to the target value of 0.2500, what proportion of shafts conform to the new specifications\n",
    "meanV = 0.2500\n",
    "print('P( 0.2485 – 0.2500< Z < 0.2515 – 0.2500)')\n",
    "\n",
    "pL1 = (0.2485-meanV)/stdV\n",
    "pH1 = (0.2515-meanV)/stdV\n",
    "\n",
    "print('P(0.2485) - ',pL1)\n",
    "print('P(0.2515) - ',pH1)"
   ]
  },
  {
   "cell_type": "code",
   "execution_count": 41,
   "metadata": {},
   "outputs": [
    {
     "name": "stdout",
     "output_type": "stream",
     "text": [
      "CDF(\"-3.00\") - 0.00135 \n",
      "CDF(\"3.00\") - 0.99865\n",
      "P(-3 < X < 3) approximately  0.9973000000000001 . About  99.73 % shafts are in sync with the specification\n"
     ]
    }
   ],
   "source": [
    "print('CDF(\"-3.00\") - 0.00135 ')\n",
    "print('CDF(\"3.00\") - 0.99865')\n",
    "approx = 0.99865 - 0.00135\n",
    "print('P(-3 < X < 3) approximately ',approx,'. About ',approx*100,'% shafts are in sync with the specification')"
   ]
  },
  {
   "cell_type": "code",
   "execution_count": 44,
   "metadata": {},
   "outputs": [
    {
     "name": "stdout",
     "output_type": "stream",
     "text": [
      "When the process is centered so that the mean is equal to the target value of 0.2500 we get  7.730000000000004 % increase in precision\n"
     ]
    }
   ],
   "source": [
    "###conclusion\n",
    "print('When the process is centered so that the mean is equal to the target value of 0.2500 we get ',(approx*100)-92,'% increase in precision')"
   ]
  },
  {
   "cell_type": "code",
   "execution_count": null,
   "metadata": {},
   "outputs": [],
   "source": []
  }
 ],
 "metadata": {
  "kernelspec": {
   "display_name": "Python 3",
   "language": "python",
   "name": "python3"
  },
  "language_info": {
   "codemirror_mode": {
    "name": "ipython",
    "version": 3
   },
   "file_extension": ".py",
   "mimetype": "text/x-python",
   "name": "python",
   "nbconvert_exporter": "python",
   "pygments_lexer": "ipython3",
   "version": "3.7.6"
  }
 },
 "nbformat": 4,
 "nbformat_minor": 4
}
