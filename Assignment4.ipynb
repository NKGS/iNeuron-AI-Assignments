{
 "cells": [
  {
   "cell_type": "code",
   "execution_count": null,
   "metadata": {},
   "outputs": [],
   "source": [
    "'''\n",
    "1.1 Write a Python Program(with class concepts) to find the area of the triangle using the below formula. \n",
    "area = (s*(s-a)*(s-b)*(s-c)) ** 0.5 \n",
    "Function to take the length of the sides of triangle from user should be defined in the parent class and function \n",
    "to calculate the area should be defined in subclass.\n",
    "'''"
   ]
  },
  {
   "cell_type": "code",
   "execution_count": 45,
   "metadata": {},
   "outputs": [],
   "source": [
    "class TraingleInputs():\n",
    "    \n",
    "    def set_sides(self):\n",
    "        self._a = (int(input('Enter side 1(a) : ')))\n",
    "        self._b = (int(input('Enter side 2(b) : ')))\n",
    "        self._c = (int(input('Enter side 3(c) : ')))  \n",
    "    \n",
    "    def get_a(self):\n",
    "        return self._a;\n",
    "    \n",
    "    def get_b(self):\n",
    "        return self._b;\n",
    "    \n",
    "    def get_c(self):\n",
    "        return self._c;\n",
    "    \n",
    "    def __str__(self):\n",
    "        return \"%d %d %d.\" \\\n",
    "                % (self._a, self._b, self._c)"
   ]
  },
  {
   "cell_type": "code",
   "execution_count": 53,
   "metadata": {},
   "outputs": [],
   "source": [
    "class TriangleArea(TraingleInputs):\n",
    "    \n",
    "    def getArea(self, a, b, c):\n",
    "        s = (a+b+c) / 2\n",
    "        return (s*(s-a)*(s-b)*(s-c)) ** 0.5  "
   ]
  },
  {
   "cell_type": "code",
   "execution_count": 54,
   "metadata": {},
   "outputs": [
    {
     "name": "stdout",
     "output_type": "stream",
     "text": [
      "Enter side 1(a) : 12\n",
      "Enter side 2(b) : 12\n",
      "Enter side 3(c) : 13\n",
      "Area of traingle is ::  65.56628325595405\n"
     ]
    }
   ],
   "source": [
    "ti = TraingleInputs()\n",
    "ti.set_sides()\n",
    "ta = TriangleArea()\n",
    "area = ta.getArea(ti._a, ti._b, ti._c)\n",
    "print('Area of traingle is :: ',area)"
   ]
  },
  {
   "cell_type": "code",
   "execution_count": null,
   "metadata": {},
   "outputs": [],
   "source": [
    "'''\n",
    "1.2 Write a function filter_long_words() that takes a list of words and an integer n and returns the list of words that are longer than n. \n",
    "'''"
   ]
  },
  {
   "cell_type": "code",
   "execution_count": 59,
   "metadata": {},
   "outputs": [
    {
     "name": "stdout",
     "output_type": "stream",
     "text": [
      "['abcd']\n"
     ]
    }
   ],
   "source": [
    "def filter_long_words(lst, n):\n",
    "    return [i for i in lst if len(i) > n]\n",
    "\n",
    "lst = ['a', 'ab', 'abc', 'abcd', 'b', 'c']\n",
    "print(filter_long_words(lst, 3))"
   ]
  },
  {
   "cell_type": "code",
   "execution_count": null,
   "metadata": {},
   "outputs": [],
   "source": [
    "'''\n",
    "2.1 Write a Python program using function concept that maps list of words into a list of integers representing the lengths of the corresponding words.\n",
    "'''"
   ]
  },
  {
   "cell_type": "code",
   "execution_count": 60,
   "metadata": {},
   "outputs": [
    {
     "name": "stdout",
     "output_type": "stream",
     "text": [
      "[1, 2, 3, 4, 1, 1]\n"
     ]
    }
   ],
   "source": [
    "def find_len_str(lst):\n",
    "    return [len(i) for i in lst]\n",
    "\n",
    "lst = ['a', 'ab', 'abc', 'abcd', 'b', 'c']\n",
    "print(find_len_str(lst))"
   ]
  },
  {
   "cell_type": "code",
   "execution_count": null,
   "metadata": {},
   "outputs": [],
   "source": [
    "'''\n",
    "2.2 Write a Python function which takes a character (i.e. a string of length 1) and returns True if it is a vowel, False otherwise. \n",
    "'''"
   ]
  },
  {
   "cell_type": "code",
   "execution_count": 64,
   "metadata": {},
   "outputs": [
    {
     "name": "stdout",
     "output_type": "stream",
     "text": [
      "True\n"
     ]
    }
   ],
   "source": [
    "def check_if_vowel(char):\n",
    "    if (char.lower() == 'a' or char.lower() == 'e' or char.lower() == 'i' or char.lower() == 'o' or char.lower() == 'u'):\n",
    "        return True\n",
    "    \n",
    "print(check_if_vowel('a'))"
   ]
  },
  {
   "cell_type": "code",
   "execution_count": null,
   "metadata": {},
   "outputs": [],
   "source": []
  }
 ],
 "metadata": {
  "kernelspec": {
   "display_name": "Python 3",
   "language": "python",
   "name": "python3"
  }
 },
 "nbformat": 4,
 "nbformat_minor": 4
}
