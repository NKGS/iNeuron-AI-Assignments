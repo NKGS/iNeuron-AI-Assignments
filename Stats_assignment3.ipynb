{
 "cells": [
  {
   "cell_type": "code",
   "execution_count": null,
   "metadata": {},
   "outputs": [],
   "source": [
    "'''\n",
    "Blood glucose levels for obese patients have a mean of 100 with a standard deviation of\n",
    "15. A researcher thinks that a diet high in raw cornstarch will have a positive effect on\n",
    "blood glucose levels. A sample of 36 patients who have tried the raw cornstarch diet\n",
    "have a mean glucose level of 108. Test the hypothesis that the raw cornstarch had an\n",
    "effect or not.\n",
    "'''"
   ]
  },
  {
   "cell_type": "code",
   "execution_count": 1,
   "metadata": {},
   "outputs": [
    {
     "name": "stdout",
     "output_type": "stream",
     "text": [
      "Z Score : 3.2\n"
     ]
    }
   ],
   "source": [
    "import math\n",
    "num_of_sample = 36\n",
    "mean_sample = 108\n",
    "pop_mean = 100\n",
    "pop_sigma  = 15\n",
    "\n",
    "z = (mean_sample - pop_mean) / (pop_sigma /math.sqrt(num_of_sample))\n",
    "print(\"Z Score :\",z)"
   ]
  },
  {
   "cell_type": "code",
   "execution_count": null,
   "metadata": {},
   "outputs": [],
   "source": [
    "'''\n",
    "In one state, 52% of the voters are Republicans, and 48% are Democrats. In a second state, 47% of the voters are Republicans, \n",
    "and 53% are Democrats. Suppose a simple random sample of 100 voters are surveyed from each state. What is the \n",
    "probability that the survey will show a greater percentage of Republican voters in the second state than in the first state?\n",
    "'''"
   ]
  },
  {
   "cell_type": "code",
   "execution_count": 2,
   "metadata": {},
   "outputs": [
    {
     "name": "stdout",
     "output_type": "stream",
     "text": [
      "Mu :  0.050000000000000044 Std :  0.07061869440877536\n",
      "-0.7080278164104213\n"
     ]
    }
   ],
   "source": [
    "#Lets\n",
    "#Prop1 = the proportion of Republican voters in the first state\n",
    "#Prop2 = the proportion of Republican voters in the second state\n",
    "#prop1 = the proportion of Republican voters in the sample from the first state\n",
    "#prop2 = the proportion of Republican voters in the sample from the second state.\n",
    "\n",
    "#num of voters from sampled first state (num1) = 100\n",
    "num1 = 100\n",
    "#num of voters from sampled second state (num2) = 100\n",
    "num2 = 100\n",
    "\n",
    "Prop1 = 0.52\n",
    "Q1 = 0.48 # (1 - Prop1)\n",
    "Prop2 = 0.47\n",
    "Q2 = 0.53 # (1 - Prop2)\n",
    "\n",
    "#Mean difference between Prop1 and Prop2\n",
    "\n",
    "m =  Prop1 - Prop2\n",
    "\n",
    "# Standard deviation\n",
    "std = math.sqrt(((Prop1 * Q1 ) / num1) + ((Prop2 * Q2) /num2))\n",
    "print(\"Mu : \",m,\"Std : \",std)\n",
    "\n",
    "# Finding probability of p1 - p2 < 0\n",
    "X = 0\n",
    "\n",
    "Z_score_p1p2 = (X - m)/std\n",
    "print(Z_score_p1p2)"
   ]
  },
  {
   "cell_type": "code",
   "execution_count": 3,
   "metadata": {},
   "outputs": [
    {
     "name": "stdout",
     "output_type": "stream",
     "text": [
      "Z test value from z table  is 0.241\n"
     ]
    }
   ],
   "source": [
    "print('Z test value from z table  is 0.241')"
   ]
  },
  {
   "cell_type": "code",
   "execution_count": null,
   "metadata": {},
   "outputs": [],
   "source": [
    "'''\n",
    "You take the SAT and score 1100. The mean score for the SAT is 1026\n",
    "and the standard deviation is 209. How well did you score on the test compared to the average test taker?\n",
    "'''"
   ]
  },
  {
   "cell_type": "code",
   "execution_count": 4,
   "metadata": {},
   "outputs": [
    {
     "name": "stdout",
     "output_type": "stream",
     "text": [
      "Z Score :  0.35406698564593303\n",
      "My Score is in the range 817 - 1235  with a  zscore 0.35\n"
     ]
    }
   ],
   "source": [
    "score = 1100 \n",
    "mean = 1026 \n",
    "std = 209\n",
    "\n",
    "z = (score - mean)/std\n",
    "\n",
    "print(\"Z Score : \",z)\n",
    "\n",
    "#This Z_Score shows that my score is 0.35 standard deviations above the mean\n",
    "print(\"My Score is in the range {} - {}  with a  zscore {:.2f}\".format(mean - std,mean + std,z))"
   ]
  },
  {
   "cell_type": "code",
   "execution_count": null,
   "metadata": {},
   "outputs": [],
   "source": []
  }
 ],
 "metadata": {
  "kernelspec": {
   "display_name": "Python 3",
   "language": "python",
   "name": "python3"
  },
  "language_info": {
   "codemirror_mode": {
    "name": "ipython",
    "version": 3
   },
   "file_extension": ".py",
   "mimetype": "text/x-python",
   "name": "python",
   "nbconvert_exporter": "python",
   "pygments_lexer": "ipython3",
   "version": "3.7.6"
  }
 },
 "nbformat": 4,
 "nbformat_minor": 4
}
