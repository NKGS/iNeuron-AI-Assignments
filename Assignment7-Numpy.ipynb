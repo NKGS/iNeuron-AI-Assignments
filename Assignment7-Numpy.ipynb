{
 "cells": [
  {
   "cell_type": "code",
   "execution_count": 1,
   "metadata": {},
   "outputs": [],
   "source": [
    "import pandas as pd\n",
    "import numpy as np"
   ]
  },
  {
   "cell_type": "code",
   "execution_count": 7,
   "metadata": {},
   "outputs": [
    {
     "data": {
      "text/plain": [
       "array([[  1,   1,   1,   1],\n",
       "       [  8,   4,   2,   1],\n",
       "       [ 27,   9,   3,   1],\n",
       "       [ 64,  16,   4,   1],\n",
       "       [125,  25,   5,   1]])"
      ]
     },
     "execution_count": 7,
     "metadata": {},
     "output_type": "execute_result"
    }
   ],
   "source": [
    "# Write a function so that the columns of the output matrix are powers of the input vector. \n",
    "# The order of the powers is determined by the increasing boolean argument. Specifically, when increasing is False, the i-th output column is the input vector raised element-wise to the power of N - i - 1. \n",
    "# HINT: Such a matrix with a geometric progression in each row is named for Alexandre- Theophile Vandermonde. \n",
    "mat = [1,2,3,4,5]\n",
    "np.vander(mat,4)"
   ]
  },
  {
   "cell_type": "code",
   "execution_count": 35,
   "metadata": {},
   "outputs": [
    {
     "name": "stdout",
     "output_type": "stream",
     "text": [
      "[0 1 2 3 4 5 6 7 8 9]\n"
     ]
    },
    {
     "data": {
      "text/plain": [
       "[1.5, 2.5, 3.5, 4.5, 5.5, 6.5, 7.5]"
      ]
     },
     "execution_count": 35,
     "metadata": {},
     "output_type": "execute_result"
    }
   ],
   "source": [
    "# 2: \n",
    "# Given a sequence of n values x1, x2, ..., xn and a window size k>0, the k-th moving average of the given sequence is defined as follows: \n",
    "# The moving average sequence has n-k+1 elements as shown below. \n",
    "# The moving averages with k=4 of a ten-value sequence (n=10) is shown below \n",
    "# i 1 2 3 4 5 6 7 8 9 10 ===== == == == == == == == == == == Input 10 20 30 40 50 60 70 80 90 100 y1 25 = (10+20+30+40)/4 y2 35 = (20+30+40+50)/4 y3 45 = (30+40+50+60)/4 y4 55 = (40+50+60+70)/4 y5 65 = (50+60+70+80)/4 y6 75 = (60+70+80+90)/4 y7 85 = (70+80+90+100)/4 \n",
    "# Thus, the moving average sequence has n-k+1=10-4+1=7 values. \n",
    "mylist = np.arange(10)\n",
    "print(mylist)\n",
    "N = 4\n",
    "cumsum, moving_aves = [0], []\n",
    "\n",
    "for i, x in enumerate(mylist, 1):\n",
    "    cumsum.append(cumsum[i-1] + x)\n",
    "    if i>=N:\n",
    "        moving_ave = (cumsum[i] - cumsum[i-N])/N\n",
    "        moving_aves.append(moving_ave)\n",
    "\n",
    "moving_aves"
   ]
  },
  {
   "cell_type": "code",
   "execution_count": 36,
   "metadata": {},
   "outputs": [
    {
     "data": {
      "text/plain": [
       "[5.0,\n",
       " 4.666666666666667,\n",
       " 5.666666666666667,\n",
       " 6.666666666666667,\n",
       " 9.666666666666666,\n",
       " 28.666666666666668,\n",
       " 49.333333333333336,\n",
       " 72.66666666666667,\n",
       " 84.0,\n",
       " 93.33333333333333,\n",
       " 116.33333333333333]"
      ]
     },
     "execution_count": 36,
     "metadata": {},
     "output_type": "execute_result"
    }
   ],
   "source": [
    "#3. Write a function to find moving average in an array over a window: \n",
    "# Test it over [3, 5, 7, 2, 8, 10, 11, 65, 72, 81, 99, 100, 150] and window of 3. \n",
    "def moving_avg(mylist, N = 3):\n",
    "    cumsum, moving_aves = [0], []\n",
    "    for i, x in enumerate(mylist, 1):\n",
    "        cumsum.append(cumsum[i-1] + x)\n",
    "        if i>=N:\n",
    "            moving_ave = (cumsum[i] - cumsum[i-N])/N\n",
    "            moving_aves.append(moving_ave)\n",
    "    return moving_aves\n",
    "\n",
    "moving_avg([3, 5, 7, 2, 8, 10, 11, 65, 72, 81, 99, 100, 150])"
   ]
  },
  {
   "cell_type": "code",
   "execution_count": null,
   "metadata": {},
   "outputs": [],
   "source": []
  }
 ],
 "metadata": {
  "kernelspec": {
   "display_name": "Python 3",
   "language": "python",
   "name": "python3"
  },
  "language_info": {
   "codemirror_mode": {
    "name": "ipython",
    "version": 3
   },
   "file_extension": ".py",
   "mimetype": "text/x-python",
   "name": "python",
   "nbconvert_exporter": "python",
   "pygments_lexer": "ipython3",
   "version": "3.7.6"
  }
 },
 "nbformat": 4,
 "nbformat_minor": 4
}
