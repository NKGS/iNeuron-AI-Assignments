{
 "cells": [
  {
   "cell_type": "code",
   "execution_count": 2,
   "metadata": {},
   "outputs": [],
   "source": [
    "import pandas as pd\n",
    "import numpy as np\n",
    "import math"
   ]
  },
  {
   "cell_type": "code",
   "execution_count": null,
   "metadata": {},
   "outputs": [],
   "source": [
    "'''\n",
    "Is gender independent of education level? A random sample of 395 people were\n",
    "surveyed and each person was asked to report the highest education level they\n",
    "obtained. The data that resulted from the survey is summarized in the following table:\n",
    "High School Bachelors Masters Ph.d. \n",
    "                    \n",
    "                    Total\n",
    "Female  60 54 46 41 201\n",
    "Male    40 44 53 57 194\n",
    "Total  100 98 99 98 395\n",
    "\n",
    "Question: Are gender and education level dependent at 5% level of significance? In\n",
    "other words, given the data collected above, is there a relationship between the\n",
    "gender of an individual and the level of education that they have obtained?\n",
    "'''"
   ]
  },
  {
   "cell_type": "code",
   "execution_count": null,
   "metadata": {},
   "outputs": [],
   "source": [
    "'''\n",
    "Observed\n",
    "                    Total\n",
    "Female  60 54 46 41 201\n",
    "Male    40 44 53 57 194\n",
    "Total  100 98 99 98 395\n",
    "\n",
    "\n",
    "Expected\n",
    "                    Total\n",
    "Female  51 50 50 50 201\n",
    "Male    49 48 49 48 194\n",
    "Total  100 98 99 98 395\n",
    "'''"
   ]
  },
  {
   "cell_type": "code",
   "execution_count": 56,
   "metadata": {},
   "outputs": [],
   "source": [
    "def ChiTest(obs, expe):\n",
    "    sumVal = 0\n",
    "    for i in range(0, len(obs)):\n",
    "        x = obs[i]-expe[i]\n",
    "        #print(x)\n",
    "        sumVal += ((x*x)/expe[i])\n",
    "    return sumVal"
   ]
  },
  {
   "cell_type": "code",
   "execution_count": 57,
   "metadata": {},
   "outputs": [
    {
     "name": "stdout",
     "output_type": "stream",
     "text": [
      "Chi Test Val -  7.8486604641856745\n"
     ]
    }
   ],
   "source": [
    "Obs = [60,54,46,41, 40,44,53,57]\n",
    "Expe = [51,50,50,50, 49,48,49,48]\n",
    "ChiTestVal = ChiTest(Obs, Expe)\n",
    "print('Chi Test Val - ',ChiTestVal)"
   ]
  },
  {
   "cell_type": "code",
   "execution_count": 58,
   "metadata": {},
   "outputs": [
    {
     "name": "stdout",
     "output_type": "stream",
     "text": [
      "Degree of freedom for degree of freedom 3 is and confidence of 0.05 is 7.82\n",
      "Since ChiTestVal > Chi Square Critical we reject H0. Means gender and education level are dependent\n"
     ]
    }
   ],
   "source": [
    "print('Degree of freedom for degree of freedom 3 is and confidence of 0.05 is 7.82')\n",
    "print('Since ChiTestVal > Chi Square Critical we reject H0. Means gender and education level are dependent')"
   ]
  },
  {
   "cell_type": "code",
   "execution_count": null,
   "metadata": {},
   "outputs": [],
   "source": [
    "'''\n",
    "Problem Statement 2:\n",
    "Using the following data, perform a oneway analysis of variance using α=.05. Write\n",
    "up the results in APA format.\n",
    "\n",
    "[Group1: 51, 45, 33, 45, 67]\n",
    "[Group2: 23, 43, 23, 43, 45]\n",
    "[Group3: 56, 76, 74, 87, 56]\n",
    "\n",
    "http://rstudio-pubs-static.s3.amazonaws.com/228015_d8d0ddab79664707890681a9a75cf16d.html\n",
    "'''"
   ]
  },
  {
   "cell_type": "code",
   "execution_count": null,
   "metadata": {},
   "outputs": [],
   "source": []
  },
  {
   "cell_type": "code",
   "execution_count": null,
   "metadata": {},
   "outputs": [],
   "source": []
  },
  {
   "cell_type": "code",
   "execution_count": null,
   "metadata": {},
   "outputs": [],
   "source": [
    "'''\n",
    "Calculate F Test for given 10, 20, 30, 40, 50 and 5,10,15, 20, 25.\n",
    "For 10, 20, 30, 40, 50:\n",
    "'''"
   ]
  },
  {
   "cell_type": "code",
   "execution_count": 5,
   "metadata": {},
   "outputs": [],
   "source": [
    "sample1 = [10,20,30,40,50]\n",
    "sample1_mean = np.mean(sample1)"
   ]
  },
  {
   "cell_type": "code",
   "execution_count": 11,
   "metadata": {},
   "outputs": [
    {
     "name": "stdout",
     "output_type": "stream",
     "text": [
      "Sample 1 Mean -  30.0\n"
     ]
    }
   ],
   "source": [
    "print('Sample 1 Mean - ', sample1_mean)"
   ]
  },
  {
   "cell_type": "code",
   "execution_count": 18,
   "metadata": {},
   "outputs": [],
   "source": [
    "def sumVar(lst, mean):\n",
    "    val = 0\n",
    "    for i in lst:\n",
    "        val += (i-mean)*(i-mean)\n",
    "    return val"
   ]
  },
  {
   "cell_type": "code",
   "execution_count": 19,
   "metadata": {},
   "outputs": [],
   "source": [
    "sumVal = sumVar(sample1, sample1_mean)"
   ]
  },
  {
   "cell_type": "code",
   "execution_count": 23,
   "metadata": {},
   "outputs": [],
   "source": [
    "sample1_std_dev = math.sqrt((1/(len(sample1)-1))*sumVal)"
   ]
  },
  {
   "cell_type": "code",
   "execution_count": 25,
   "metadata": {},
   "outputs": [
    {
     "name": "stdout",
     "output_type": "stream",
     "text": [
      "Standard deviation of sample1 -  15.811388300841896\n",
      "Variance of sample1 -  250.0\n"
     ]
    }
   ],
   "source": [
    "print('Standard deviation of sample1 - ',sample1_std_dev)\n",
    "print('Variance of sample1 - ',sample1_std_dev*sample1_std_dev)"
   ]
  },
  {
   "cell_type": "code",
   "execution_count": 26,
   "metadata": {},
   "outputs": [
    {
     "name": "stdout",
     "output_type": "stream",
     "text": [
      "Standard deviation of sample2 -  7.905694150420948\n",
      "Variance of sample2 -  62.5\n"
     ]
    }
   ],
   "source": [
    "sample2 = [5,10,15, 20, 25]\n",
    "sample2_mean = np.mean(sample2)\n",
    "sumVal2 = sumVar(sample2, sample2_mean)\n",
    "sample2_std_dev = math.sqrt((1/(len(sample2)-1))*sumVal2)\n",
    "print('Standard deviation of sample2 - ',sample2_std_dev)\n",
    "print('Variance of sample2 - ',sample2_std_dev*sample2_std_dev)"
   ]
  },
  {
   "cell_type": "code",
   "execution_count": 27,
   "metadata": {},
   "outputs": [
    {
     "name": "stdout",
     "output_type": "stream",
     "text": [
      "Ftest value -  4.0\n"
     ]
    }
   ],
   "source": [
    "var_sample1 = sample1_std_dev*sample1_std_dev\n",
    "var_sample2 = sample2_std_dev*sample2_std_dev\n",
    "FTest = var_sample1/var_sample2\n",
    "print('Ftest value - ',FTest)"
   ]
  },
  {
   "cell_type": "code",
   "execution_count": null,
   "metadata": {},
   "outputs": [],
   "source": []
  }
 ],
 "metadata": {
  "kernelspec": {
   "display_name": "Python 3",
   "language": "python",
   "name": "python3"
  },
  "language_info": {
   "codemirror_mode": {
    "name": "ipython",
    "version": 3
   },
   "file_extension": ".py",
   "mimetype": "text/x-python",
   "name": "python",
   "nbconvert_exporter": "python",
   "pygments_lexer": "ipython3",
   "version": "3.7.6"
  }
 },
 "nbformat": 4,
 "nbformat_minor": 4
}
